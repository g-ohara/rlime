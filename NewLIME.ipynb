{
 "cells": [
  {
   "cell_type": "markdown",
   "metadata": {
    "id": "jI2l8q9vDwmC",
    "jp-MarkdownHeadingCollapsed": true
   },
   "source": [
    "# install and import packages"
   ]
  },
  {
   "cell_type": "code",
   "execution_count": 4,
   "metadata": {
    "colab": {
     "base_uri": "https://localhost:8080/"
    },
    "executionInfo": {
     "elapsed": 4917,
     "status": "ok",
     "timestamp": 1693384124982,
     "user": {
      "displayName": "大原玄嗣",
      "userId": "17130663518414586879"
     },
     "user_tz": -540
    },
    "id": "zfLKW1ou_Wmj",
    "outputId": "3d27344e-89d2-4a7a-f719-add9f8628c24"
   },
   "outputs": [
    {
     "name": "stdout",
     "output_type": "stream",
     "text": [
      "Defaulting to user installation because normal site-packages is not writeable\n",
      "Requirement already satisfied: numpy in /home/genji/.local/lib/python3.10/site-packages (1.25.2)\n",
      "Requirement already satisfied: pyDOE2 in /home/genji/.local/lib/python3.10/site-packages (1.3.0)\n",
      "Requirement already satisfied: scikit-learn in /home/genji/.local/lib/python3.10/site-packages (1.3.0)\n",
      "Requirement already satisfied: lime in /home/genji/.local/lib/python3.10/site-packages (0.2.0.1)\n",
      "Requirement already satisfied: anchor-exp in /home/genji/.local/lib/python3.10/site-packages (0.0.2.0)\n",
      "Requirement already satisfied: tabulate in /home/genji/.local/lib/python3.10/site-packages (0.9.0)\n",
      "Requirement already satisfied: river in /home/genji/.local/lib/python3.10/site-packages (0.19.0)\n",
      "Requirement already satisfied: pytest in /home/genji/.local/lib/python3.10/site-packages (7.4.1)\n",
      "Requirement already satisfied: scipy in /home/genji/.local/lib/python3.10/site-packages (from pyDOE2) (1.11.2)\n",
      "Requirement already satisfied: joblib>=1.1.1 in /home/genji/.local/lib/python3.10/site-packages (from scikit-learn) (1.3.2)\n",
      "Requirement already satisfied: threadpoolctl>=2.0.0 in /home/genji/.local/lib/python3.10/site-packages (from scikit-learn) (3.2.0)\n",
      "Requirement already satisfied: matplotlib in /home/genji/.local/lib/python3.10/site-packages (from lime) (3.7.2)\n",
      "Requirement already satisfied: scikit-image>=0.12 in /home/genji/.local/lib/python3.10/site-packages (from lime) (0.21.0)\n",
      "Requirement already satisfied: tqdm in /home/genji/.local/lib/python3.10/site-packages (from lime) (4.66.1)\n",
      "Requirement already satisfied: spacy in /home/genji/.local/lib/python3.10/site-packages (from anchor-exp) (3.6.1)\n",
      "Requirement already satisfied: pandas>=1.3 in /home/genji/.local/lib/python3.10/site-packages (from river) (2.1.0)\n",
      "Requirement already satisfied: iniconfig in /home/genji/.local/lib/python3.10/site-packages (from pytest) (2.0.0)\n",
      "Requirement already satisfied: packaging in /home/genji/.local/lib/python3.10/site-packages (from pytest) (23.1)\n",
      "Requirement already satisfied: pluggy<2.0,>=0.12 in /home/genji/.local/lib/python3.10/site-packages (from pytest) (1.3.0)\n",
      "Requirement already satisfied: exceptiongroup>=1.0.0rc8 in /home/genji/.local/lib/python3.10/site-packages (from pytest) (1.1.3)\n",
      "Requirement already satisfied: tomli>=1.0.0 in /home/genji/.local/lib/python3.10/site-packages (from pytest) (2.0.1)\n",
      "Requirement already satisfied: python-dateutil>=2.8.2 in /home/genji/.local/lib/python3.10/site-packages (from pandas>=1.3->river) (2.8.2)\n",
      "Requirement already satisfied: pytz>=2020.1 in /home/genji/.local/lib/python3.10/site-packages (from pandas>=1.3->river) (2023.3.post1)\n",
      "Requirement already satisfied: tzdata>=2022.1 in /home/genji/.local/lib/python3.10/site-packages (from pandas>=1.3->river) (2023.3)\n",
      "Requirement already satisfied: networkx>=2.8 in /home/genji/.local/lib/python3.10/site-packages (from scikit-image>=0.12->lime) (3.1)\n",
      "Requirement already satisfied: pillow>=9.0.1 in /home/genji/.local/lib/python3.10/site-packages (from scikit-image>=0.12->lime) (10.0.0)\n",
      "Requirement already satisfied: imageio>=2.27 in /home/genji/.local/lib/python3.10/site-packages (from scikit-image>=0.12->lime) (2.31.3)\n",
      "Requirement already satisfied: tifffile>=2022.8.12 in /home/genji/.local/lib/python3.10/site-packages (from scikit-image>=0.12->lime) (2023.8.30)\n",
      "Requirement already satisfied: PyWavelets>=1.1.1 in /home/genji/.local/lib/python3.10/site-packages (from scikit-image>=0.12->lime) (1.4.1)\n",
      "Requirement already satisfied: lazy_loader>=0.2 in /home/genji/.local/lib/python3.10/site-packages (from scikit-image>=0.12->lime) (0.3)\n",
      "Requirement already satisfied: contourpy>=1.0.1 in /home/genji/.local/lib/python3.10/site-packages (from matplotlib->lime) (1.1.0)\n",
      "Requirement already satisfied: cycler>=0.10 in /home/genji/.local/lib/python3.10/site-packages (from matplotlib->lime) (0.11.0)\n",
      "Requirement already satisfied: fonttools>=4.22.0 in /home/genji/.local/lib/python3.10/site-packages (from matplotlib->lime) (4.42.1)\n",
      "Requirement already satisfied: kiwisolver>=1.0.1 in /home/genji/.local/lib/python3.10/site-packages (from matplotlib->lime) (1.4.5)\n",
      "Requirement already satisfied: pyparsing<3.1,>=2.3.1 in /usr/lib/python3/dist-packages (from matplotlib->lime) (2.4.7)\n",
      "Requirement already satisfied: spacy-legacy<3.1.0,>=3.0.11 in /home/genji/.local/lib/python3.10/site-packages (from spacy->anchor-exp) (3.0.12)\n",
      "Requirement already satisfied: spacy-loggers<2.0.0,>=1.0.0 in /home/genji/.local/lib/python3.10/site-packages (from spacy->anchor-exp) (1.0.4)\n",
      "Requirement already satisfied: murmurhash<1.1.0,>=0.28.0 in /home/genji/.local/lib/python3.10/site-packages (from spacy->anchor-exp) (1.0.9)\n",
      "Requirement already satisfied: cymem<2.1.0,>=2.0.2 in /home/genji/.local/lib/python3.10/site-packages (from spacy->anchor-exp) (2.0.7)\n",
      "Requirement already satisfied: preshed<3.1.0,>=3.0.2 in /home/genji/.local/lib/python3.10/site-packages (from spacy->anchor-exp) (3.0.8)\n",
      "Requirement already satisfied: thinc<8.2.0,>=8.1.8 in /home/genji/.local/lib/python3.10/site-packages (from spacy->anchor-exp) (8.1.12)\n",
      "Requirement already satisfied: wasabi<1.2.0,>=0.9.1 in /home/genji/.local/lib/python3.10/site-packages (from spacy->anchor-exp) (1.1.2)\n",
      "Requirement already satisfied: srsly<3.0.0,>=2.4.3 in /home/genji/.local/lib/python3.10/site-packages (from spacy->anchor-exp) (2.4.7)\n",
      "Requirement already satisfied: catalogue<2.1.0,>=2.0.6 in /home/genji/.local/lib/python3.10/site-packages (from spacy->anchor-exp) (2.0.9)\n",
      "Requirement already satisfied: typer<0.10.0,>=0.3.0 in /home/genji/.local/lib/python3.10/site-packages (from spacy->anchor-exp) (0.9.0)\n",
      "Requirement already satisfied: pathy>=0.10.0 in /home/genji/.local/lib/python3.10/site-packages (from spacy->anchor-exp) (0.10.2)\n",
      "Requirement already satisfied: smart-open<7.0.0,>=5.2.1 in /home/genji/.local/lib/python3.10/site-packages (from spacy->anchor-exp) (6.3.0)\n",
      "Requirement already satisfied: requests<3.0.0,>=2.13.0 in /home/genji/.local/lib/python3.10/site-packages (from spacy->anchor-exp) (2.31.0)\n",
      "Requirement already satisfied: pydantic!=1.8,!=1.8.1,<3.0.0,>=1.7.4 in /home/genji/.local/lib/python3.10/site-packages (from spacy->anchor-exp) (2.3.0)\n",
      "Requirement already satisfied: jinja2 in /home/genji/.local/lib/python3.10/site-packages (from spacy->anchor-exp) (3.1.2)\n",
      "Requirement already satisfied: setuptools in /usr/lib/python3/dist-packages (from spacy->anchor-exp) (59.6.0)\n",
      "Requirement already satisfied: langcodes<4.0.0,>=3.2.0 in /home/genji/.local/lib/python3.10/site-packages (from spacy->anchor-exp) (3.3.0)\n",
      "Requirement already satisfied: annotated-types>=0.4.0 in /home/genji/.local/lib/python3.10/site-packages (from pydantic!=1.8,!=1.8.1,<3.0.0,>=1.7.4->spacy->anchor-exp) (0.5.0)\n",
      "Requirement already satisfied: pydantic-core==2.6.3 in /home/genji/.local/lib/python3.10/site-packages (from pydantic!=1.8,!=1.8.1,<3.0.0,>=1.7.4->spacy->anchor-exp) (2.6.3)\n",
      "Requirement already satisfied: typing-extensions>=4.6.1 in /home/genji/.local/lib/python3.10/site-packages (from pydantic!=1.8,!=1.8.1,<3.0.0,>=1.7.4->spacy->anchor-exp) (4.7.1)\n",
      "Requirement already satisfied: six>=1.5 in /usr/lib/python3/dist-packages (from python-dateutil>=2.8.2->pandas>=1.3->river) (1.16.0)\n",
      "Requirement already satisfied: charset-normalizer<4,>=2 in /home/genji/.local/lib/python3.10/site-packages (from requests<3.0.0,>=2.13.0->spacy->anchor-exp) (3.2.0)\n",
      "Requirement already satisfied: idna<4,>=2.5 in /home/genji/.local/lib/python3.10/site-packages (from requests<3.0.0,>=2.13.0->spacy->anchor-exp) (3.4)\n",
      "Requirement already satisfied: urllib3<3,>=1.21.1 in /home/genji/.local/lib/python3.10/site-packages (from requests<3.0.0,>=2.13.0->spacy->anchor-exp) (2.0.4)\n",
      "Requirement already satisfied: certifi>=2017.4.17 in /home/genji/.local/lib/python3.10/site-packages (from requests<3.0.0,>=2.13.0->spacy->anchor-exp) (2023.7.22)\n",
      "Requirement already satisfied: blis<0.8.0,>=0.7.8 in /home/genji/.local/lib/python3.10/site-packages (from thinc<8.2.0,>=8.1.8->spacy->anchor-exp) (0.7.10)\n",
      "Requirement already satisfied: confection<1.0.0,>=0.0.1 in /home/genji/.local/lib/python3.10/site-packages (from thinc<8.2.0,>=8.1.8->spacy->anchor-exp) (0.1.1)\n",
      "Requirement already satisfied: click<9.0.0,>=7.1.1 in /home/genji/.local/lib/python3.10/site-packages (from typer<0.10.0,>=0.3.0->spacy->anchor-exp) (8.1.7)\n",
      "Requirement already satisfied: MarkupSafe>=2.0 in /home/genji/.local/lib/python3.10/site-packages (from jinja2->spacy->anchor-exp) (2.1.3)\n"
     ]
    }
   ],
   "source": [
    "!pip install numpy pyDOE2 scikit-learn lime anchor-exp tabulate river pytest"
   ]
  },
  {
   "cell_type": "markdown",
   "metadata": {
    "id": "j5W_DJZWK-V_"
   },
   "source": [
    "# Experiments "
   ]
  },
  {
   "cell_type": "markdown",
   "metadata": {
    "id": "pTVA7PrLK-WF"
   },
   "source": [
    "## Functions"
   ]
  },
  {
   "cell_type": "code",
   "execution_count": 36,
   "metadata": {},
   "outputs": [],
   "source": [
    "transformations = {\n",
    "    0: lambda x: ['Black', 'White'][x],         \n",
    "    1: lambda x: ['No', 'Yes'][x],              \n",
    "    2: lambda x: ['No', 'Yes'][x],              \n",
    "    3: lambda x: ['No', 'Yes'][x],              \n",
    "    4: lambda x: ['No', 'Married'][x],          \n",
    "    5: lambda x: ['No', 'Yes'][x],              \n",
    "    6: lambda x: ['No', 'Yes'][x],              \n",
    "    7: lambda x: ['No', 'Yes'][x],              \n",
    "    8: lambda x: ['No', 'Yes'][x],              \n",
    "    9: lambda x: ['Female', 'Male'][x],\n",
    "    10: lambda x: x,\n",
    "    11: lambda x: x,\n",
    "    12: lambda x: x,                                  \n",
    "    13: lambda x: x,\n",
    "    14: lambda x: x,\n",
    "    15: lambda x: x,\n",
    "    16: lambda x: ['No more crimes', 'Re-arrested  '][x]            \n",
    "}\n",
    "\n",
    "def my_transformations(i, x, dataset_name):\n",
    "    if dataset_name == 'recidivism':\n",
    "        trg = transformations[i](x)\n",
    "        if type(trg) is str:\n",
    "            trg = trg + ' (%d)' % x\n",
    "        return trg \n",
    "    else:\n",
    "        return x"
   ]
  },
  {
   "cell_type": "code",
   "execution_count": 39,
   "metadata": {},
   "outputs": [],
   "source": [
    "import utils\n",
    "\n",
    "from tabulate import tabulate\n",
    "import time\n",
    "import csv\n",
    "\n",
    "def get_trg_sample(index, dataset, dataset_name, dataset_folder):\n",
    "    print('Index: ', index)\n",
    "    raw_dataset = utils.load_dataset(\n",
    "        dataset_name, balance=True, dataset_folder=dataset_folder, discretize=False)\n",
    "    trg = dataset.test[index]\n",
    "    label = dataset.labels_test[index]\n",
    "    \n",
    "    int_list = list(int(x) for x in raw_dataset.test[index])\n",
    "    str_list = [my_transformations(i, x, dataset_name) for i, x in enumerate(int_list)]\n",
    "    trg_data = list(zip(raw_dataset.feature_names, str_list))\n",
    "\n",
    "    print('Prediction:', raw_dataset.class_names[rf.predict(trg.reshape(1, -1))[0]])\n",
    "    print('True:      ', raw_dataset.class_names[dataset.labels_test[index]])\n",
    "    print(tabulate(trg_data))\n",
    "    f = open('img/%s/%05d-instance.txt' % (dataset_name, index), 'w')\n",
    "    f.write(tabulate(trg_data))\n",
    "    f.close()\n",
    "    with open('img/%s/%05d-instance.csv' % (dataset_name, index), 'w', newline='') as file:\n",
    "        writer = csv.writer(file)\n",
    "        writer.writerows([['feature', 'value']])\n",
    "        writer.writerows(trg_data)\n",
    "        writer.writerows([['Recidivism', my_transformations(16, label, 'recidivism')]])\n",
    "    return trg, label"
   ]
  },
  {
   "cell_type": "code",
   "execution_count": 26,
   "metadata": {},
   "outputs": [],
   "source": [
    "import explanation\n",
    "import lime_tabular\n",
    "\n",
    "def lime_original(trg, pred_label):\n",
    "    lime_explainer = lime_tabular.LimeTabularExplainer(\n",
    "        dataset.train,\n",
    "        feature_names=dataset.feature_names,\n",
    "        class_names=dataset.class_names,\n",
    "        discretize_continuous=False)\n",
    "    lime_exp = lime_explainer.explain_instance(\n",
    "        trg, rf.predict_proba, num_features=5, top_labels=1)\n",
    "    # lime_exp.show_in_notebook(show_table=True, show_all=True)\n",
    "    weights = [0] * len(dataset.feature_names)\n",
    "    for t in lime_exp.local_exp[pred_label]:\n",
    "        weights[t[0]] = t[1] * (pred_label * 2 - 1)\n",
    "    plot_weights(weights, dataset.feature_names)"
   ]
  },
  {
   "cell_type": "code",
   "execution_count": 27,
   "metadata": {},
   "outputs": [],
   "source": [
    "from anchor import anchor_tabular\n",
    "\n",
    "def anchor_original(trg, threshold=0.85):\n",
    "    anchor_explainer = anchor_tabular.AnchorTabularExplainer(\n",
    "        dataset.class_names,\n",
    "        dataset.feature_names,\n",
    "        dataset.train,\n",
    "        dataset.categorical_names)\n",
    "    anchor_exp = anchor_explainer.explain_instance(\n",
    "        trg, rf.predict, threshold)\n",
    "\n",
    "    print('Threshold:  %.2f' % threshold)\n",
    "    # print('Prediction:', anchor_explainer.class_names[rf.predict(trg.reshape(1, -1))[0]])\n",
    "    print('Anchor:     %s' % (' AND '.join(anchor_exp.names())))\n",
    "    print('Precision:  %.2f' % anchor_exp.precision())\n",
    "    print('Coverage:   %.2f' % anchor_exp.coverage())"
   ]
  },
  {
   "cell_type": "code",
   "execution_count": 28,
   "metadata": {},
   "outputs": [],
   "source": [
    "import my_anchor_base\n",
    "import my_anchor_tabular\n",
    "\n",
    "# display\n",
    "import matplotlib.pyplot as plt\n",
    "    \n",
    "import importlib\n",
    "importlib.reload(my_anchor_base)\n",
    "importlib.reload(my_anchor_tabular)\n",
    "\n",
    "def new_lime(trg, dataset, threshold=0.90):\n",
    "    anchor_explainer = my_anchor_tabular.AnchorTabularExplainer(\n",
    "        dataset.class_names,\n",
    "        dataset.feature_names,\n",
    "        dataset.train,\n",
    "        dataset.categorical_names)\n",
    "    anchor_exp, surrogate_model = anchor_explainer.explain_instance(trg, rf.predict, threshold=threshold)\n",
    "    \n",
    "    names = anchor_exp.names()\n",
    "    multiline_names = []\n",
    "    max_i = int(len(names) / 3)\n",
    "    for i in range(max_i):\n",
    "        triple = [names[i * 3], names[i * 3 + 1], names[i * 3 + 2]]\n",
    "        multiline_names.append(' AND '.join(triple))\n",
    "    if len(names) != max_i* 3:\n",
    "        multiline_names.append(' AND '.join(names[max_i * 3:]))\n",
    "    print(names)\n",
    "    plot_weights(\n",
    "        list(surrogate_model['LogisticRegression'].weights.values()),\n",
    "        dataset.feature_names,\n",
    "        ' AND \\n'.join(multiline_names),\n",
    "        anchor_exp.precision(),\n",
    "        anchor_exp.coverage()\n",
    "    )"
   ]
  },
  {
   "cell_type": "code",
   "execution_count": 29,
   "metadata": {},
   "outputs": [],
   "source": [
    "def plot_weights(weights, feature_names, anchor=None, precision=None, coverage=None):\n",
    "    features = feature_names\n",
    "    values = weights\n",
    "    abs_values = [abs(x) for x in values]\n",
    "    _, sorted_features, sorted_values = zip(*sorted(zip(abs_values, features, values), reverse=False)[-5:])\n",
    "    plt.figure()\n",
    "    color = ['#32a852' if sorted_values[i] > 0 else '#cf4529' for i in range(len(sorted_values))]\n",
    "    plt.barh(sorted_features, sorted_values, color=color)\n",
    "    anchor_str = ''\n",
    "    \n",
    "    if anchor != None:\n",
    "        plt.title('%s\\nwith Precision %.3f and Coverage %.3f' % (anchor, precision, coverage))\n",
    "    for i in range(len(sorted_features)):\n",
    "        plt.text(sorted_values[i], sorted_features[i], round(sorted_values[i], 5))\n",
    "    plt.show"
   ]
  },
  {
   "cell_type": "markdown",
   "metadata": {
    "id": "pTVA7PrLK-WF"
   },
   "source": [
    "## Generating Explanations"
   ]
  },
  {
   "cell_type": "code",
   "execution_count": 30,
   "metadata": {
    "executionInfo": {
     "elapsed": 1565,
     "status": "ok",
     "timestamp": 1693384132186,
     "user": {
      "displayName": "大原玄嗣",
      "userId": "17130663518414586879"
     },
     "user_tz": -540
    },
    "id": "Mk7wsr1rYrMm"
   },
   "outputs": [],
   "source": [
    "dataset_folder = 'datasets/'\n",
    "# dataset_name = 'recidivism'\n",
    "dataset_name = 'adult'\n",
    "# dataset_name = 'diabetes'\n",
    "# dataset_name = 'default'\n",
    "# dataset_name = 'lending'\n",
    "\n",
    "dataset = utils.load_dataset(\n",
    "    dataset_name, balance=True, dataset_folder=dataset_folder, discretize=True)"
   ]
  },
  {
   "cell_type": "code",
   "execution_count": 31,
   "metadata": {
    "colab": {
     "base_uri": "https://localhost:8080/"
    },
    "executionInfo": {
     "elapsed": 13566,
     "status": "ok",
     "timestamp": 1693384148268,
     "user": {
      "displayName": "大原玄嗣",
      "userId": "17130663518414586879"
     },
     "user_tz": -540
    },
    "id": "t4zQDCB1xgXY",
    "outputId": "67f0b135-740e-45a6-f9dd-8be81469031f"
   },
   "outputs": [
    {
     "name": "stdout",
     "output_type": "stream",
     "text": [
      "Train 0.9350338780390594\n",
      "Test 0.8489483747609943\n"
     ]
    }
   ],
   "source": [
    "import sklearn.ensemble\n",
    "\n",
    "rf = sklearn.ensemble.RandomForestClassifier(n_estimators=50, n_jobs=5)\n",
    "rf.fit(dataset.train, dataset.labels_train)\n",
    "\n",
    "print('Train', sklearn.metrics.accuracy_score(\n",
    "    dataset.labels_train, rf.predict(dataset.train)))\n",
    "print('Test', sklearn.metrics.accuracy_score(\n",
    "    dataset.labels_test, rf.predict(dataset.test)))"
   ]
  },
  {
   "cell_type": "code",
   "execution_count": 32,
   "metadata": {},
   "outputs": [
    {
     "name": "stdout",
     "output_type": "stream",
     "text": [
      "12545\n",
      "1569\n",
      "14114\n"
     ]
    }
   ],
   "source": [
    "print(dataset.train.shape[0])\n",
    "print(dataset.test.shape[0])\n",
    "print(dataset.train.shape[0] + dataset.test.shape[0])"
   ]
  },
  {
   "cell_type": "code",
   "execution_count": 40,
   "metadata": {},
   "outputs": [
    {
     "name": "stdout",
     "output_type": "stream",
     "text": [
      "Index:  1068\n",
      "Prediction: b'<=50K'\n",
      "True:       b'<=50K'\n",
      "--------------  --\n",
      "Age             62\n",
      "Workclass        6\n",
      "Education       15\n",
      "Marital Status   2\n",
      "Occupation       4\n",
      "Relationship     0\n",
      "Race             4\n",
      "Sex              1\n",
      "Capital Gain     0\n",
      "Capital Loss     0\n",
      "Hours per week  10\n",
      "Country         39\n",
      "--------------  --\n"
     ]
    }
   ],
   "source": [
    "import random\n",
    "\n",
    "i = random.randint(10, dataset.test.shape[0])\n",
    "\n",
    "# adult\n",
    "# 730, 956, 1196, 1522\n",
    "# i = 1443 # --- Capital Gain = 2\n",
    "\n",
    "# recidivism\n",
    "# i = 266\n",
    "# i = 599\n",
    "\n",
    "trg, trg_label = get_trg_sample(i, dataset, dataset_name, dataset_folder)"
   ]
  },
  {
   "cell_type": "code",
   "execution_count": 41,
   "metadata": {
    "scrolled": true
   },
   "outputs": [
    {
     "data": {
      "image/png": "[encoded data removed]",
      "text/plain": [
       "<Figure size 640x480 with 1 Axes>"
      ]
     },
     "metadata": {},
     "output_type": "display_data"
    }
   ],
   "source": [
    "lime_original(trg, rf.predict([dataset.test[i]])[0])\n",
    "img_file = 'img/%s/%05d-LIME.png' % (dataset_name, i)\n",
    "plt.savefig(img_file, bbox_inches='tight')"
   ]
  },
  {
   "cell_type": "code",
   "execution_count": 66,
   "metadata": {
    "colab": {
     "base_uri": "https://localhost:8080/"
    },
    "executionInfo": {
     "elapsed": 612,
     "status": "ok",
     "timestamp": 1693384151469,
     "user": {
      "displayName": "大原玄嗣",
      "userId": "17130663518414586879"
     },
     "user_tz": -540
    },
    "id": "WpL00B8X06dT",
    "outputId": "5c352fb5-d9ec-461c-bed8-dc13f8972a57"
   },
   "outputs": [
    {
     "ename": "TypeError",
     "evalue": "'module' object is not callable",
     "output_type": "error",
     "traceback": [
      "\u001b[0;31m---------------------------------------------------------------------------\u001b[0m",
      "\u001b[0;31mTypeError\u001b[0m                                 Traceback (most recent call last)",
      "Cell \u001b[0;32mIn[66], line 3\u001b[0m\n\u001b[1;32m      1\u001b[0m \u001b[38;5;28;01mimport\u001b[39;00m \u001b[38;5;21;01mimportlib\u001b[39;00m\n\u001b[0;32m----> 3\u001b[0m \u001b[43mimportlib\u001b[49m\u001b[43m(\u001b[49m\u001b[43mmy_anchor_base\u001b[49m\u001b[43m)\u001b[49m\n\u001b[1;32m      4\u001b[0m importlib(my_anchor_tabular)\n\u001b[1;32m      6\u001b[0m i \u001b[38;5;241m=\u001b[39m random\u001b[38;5;241m.\u001b[39mrandint(\u001b[38;5;241m10\u001b[39m, dataset\u001b[38;5;241m.\u001b[39mtest\u001b[38;5;241m.\u001b[39mshape[\u001b[38;5;241m0\u001b[39m])\n",
      "\u001b[0;31mTypeError\u001b[0m: 'module' object is not callable"
     ]
    }
   ],
   "source": [
    "import importlib\n",
    "\n",
    "importlib(my_anchor_base)\n",
    "importlib(my_anchor_tabular)\n",
    "\n",
    "i = random.randint(10, dataset.test.shape[0])\n",
    "i = 416\n",
    "trg, trg_label = get_trg_sample(i, dataset, dataset_name, dataset_folder)\n",
    "\n",
    "for t in [0.70, 0.80, 0.90]:\n",
    "    new_lime(trg, dataset, threshold=t)\n",
    "    img_file = 'img/%s/%05d-%03d.png' % (dataset_name, i, t * 100)\n",
    "    plt.savefig(img_file, bbox_inches='tight')"
   ]
  },
  {
   "cell_type": "code",
   "execution_count": null,
   "metadata": {},
   "outputs": [],
   "source": [
    "anchor_original(trg, threshold=0.80)"
   ]
  },
  {
   "cell_type": "code",
   "execution_count": null,
   "metadata": {},
   "outputs": [],
   "source": []
  }
 ],
 "metadata": {
  "colab": {
   "authorship_tag": "ABX9TyN0kC9fbDNbmc0mebrwUKVT",
   "collapsed_sections": [
    "jI2l8q9vDwmC",
    "LDo-nkw4DblO",
    "FUra4f6XDkte",
    "sFuAnPY8DpwJ",
    "QYQ-Wm17JrLV",
    "wc3XCxxJJ-aX",
    "uWULnk9jKNnF",
    "xtTn_fqoKdst"
   ],
   "provenance": [
    {
     "file_id": "1BAGBj_btcdMvhdjeKv1qqb35zqofH3gh",
     "timestamp": 1691797657695
    }
   ]
  },
  "kernelspec": {
   "display_name": "Python 3 (ipykernel)",
   "language": "python",
   "name": "python3"
  },
  "language_info": {
   "codemirror_mode": {
    "name": "ipython",
    "version": 3
   },
   "file_extension": ".py",
   "mimetype": "text/x-python",
   "name": "python",
   "nbconvert_exporter": "python",
   "pygments_lexer": "ipython3",
   "version": "3.10.12"
  }
 },
 "nbformat": 4,
 "nbformat_minor": 4
}
