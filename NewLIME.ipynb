{
 "cells": [
  {
   "cell_type": "markdown",
   "metadata": {
    "id": "jI2l8q9vDwmC",
    "jp-MarkdownHeadingCollapsed": true
   },
   "source": [
    "# install and import packages"
   ]
  },
  {
   "cell_type": "code",
   "execution_count": 2,
   "metadata": {
    "colab": {
     "base_uri": "https://localhost:8080/"
    },
    "executionInfo": {
     "elapsed": 4917,
     "status": "ok",
     "timestamp": 1693384124982,
     "user": {
      "displayName": "大原玄嗣",
      "userId": "17130663518414586879"
     },
     "user_tz": -540
    },
    "id": "zfLKW1ou_Wmj",
    "outputId": "3d27344e-89d2-4a7a-f719-add9f8628c24"
   },
   "outputs": [
    {
     "name": "stdout",
     "output_type": "stream",
     "text": [
      "Defaulting to user installation because normal site-packages is not writeable\n",
      "Requirement already satisfied: numpy in /home/genji/.local/lib/python3.10/site-packages (1.25.2)\n",
      "Requirement already satisfied: pyDOE2 in /home/genji/.local/lib/python3.10/site-packages (1.3.0)\n",
      "Requirement already satisfied: scikit-learn in /home/genji/.local/lib/python3.10/site-packages (1.3.0)\n",
      "Requirement already satisfied: lime in /home/genji/.local/lib/python3.10/site-packages (0.2.0.1)\n",
      "Requirement already satisfied: anchor-exp in /home/genji/.local/lib/python3.10/site-packages (0.0.2.0)\n",
      "Requirement already satisfied: tabulate in /home/genji/.local/lib/python3.10/site-packages (0.9.0)\n",
      "Requirement already satisfied: river in /home/genji/.local/lib/python3.10/site-packages (0.19.0)\n",
      "Requirement already satisfied: pytest in /home/genji/.local/lib/python3.10/site-packages (7.4.1)\n",
      "Requirement already satisfied: scipy in /home/genji/.local/lib/python3.10/site-packages (from pyDOE2) (1.11.2)\n",
      "Requirement already satisfied: joblib>=1.1.1 in /home/genji/.local/lib/python3.10/site-packages (from scikit-learn) (1.3.2)\n",
      "Requirement already satisfied: threadpoolctl>=2.0.0 in /home/genji/.local/lib/python3.10/site-packages (from scikit-learn) (3.2.0)\n",
      "Requirement already satisfied: matplotlib in /home/genji/.local/lib/python3.10/site-packages (from lime) (3.7.2)\n",
      "Requirement already satisfied: scikit-image>=0.12 in /home/genji/.local/lib/python3.10/site-packages (from lime) (0.21.0)\n",
      "Requirement already satisfied: tqdm in /home/genji/.local/lib/python3.10/site-packages (from lime) (4.66.1)\n",
      "Requirement already satisfied: spacy in /home/genji/.local/lib/python3.10/site-packages (from anchor-exp) (3.6.1)\n",
      "Requirement already satisfied: pandas>=1.3 in /home/genji/.local/lib/python3.10/site-packages (from river) (2.1.0)\n",
      "Requirement already satisfied: iniconfig in /home/genji/.local/lib/python3.10/site-packages (from pytest) (2.0.0)\n",
      "Requirement already satisfied: packaging in /home/genji/.local/lib/python3.10/site-packages (from pytest) (23.1)\n",
      "Requirement already satisfied: pluggy<2.0,>=0.12 in /home/genji/.local/lib/python3.10/site-packages (from pytest) (1.3.0)\n",
      "Requirement already satisfied: exceptiongroup>=1.0.0rc8 in /home/genji/.local/lib/python3.10/site-packages (from pytest) (1.1.3)\n",
      "Requirement already satisfied: tomli>=1.0.0 in /home/genji/.local/lib/python3.10/site-packages (from pytest) (2.0.1)\n",
      "Requirement already satisfied: python-dateutil>=2.8.2 in /home/genji/.local/lib/python3.10/site-packages (from pandas>=1.3->river) (2.8.2)\n",
      "Requirement already satisfied: pytz>=2020.1 in /home/genji/.local/lib/python3.10/site-packages (from pandas>=1.3->river) (2023.3.post1)\n",
      "Requirement already satisfied: tzdata>=2022.1 in /home/genji/.local/lib/python3.10/site-packages (from pandas>=1.3->river) (2023.3)\n",
      "Requirement already satisfied: networkx>=2.8 in /home/genji/.local/lib/python3.10/site-packages (from scikit-image>=0.12->lime) (3.1)\n",
      "Requirement already satisfied: pillow>=9.0.1 in /home/genji/.local/lib/python3.10/site-packages (from scikit-image>=0.12->lime) (10.0.0)\n",
      "Requirement already satisfied: imageio>=2.27 in /home/genji/.local/lib/python3.10/site-packages (from scikit-image>=0.12->lime) (2.31.3)\n",
      "Requirement already satisfied: tifffile>=2022.8.12 in /home/genji/.local/lib/python3.10/site-packages (from scikit-image>=0.12->lime) (2023.8.30)\n",
      "Requirement already satisfied: PyWavelets>=1.1.1 in /home/genji/.local/lib/python3.10/site-packages (from scikit-image>=0.12->lime) (1.4.1)\n",
      "Requirement already satisfied: lazy_loader>=0.2 in /home/genji/.local/lib/python3.10/site-packages (from scikit-image>=0.12->lime) (0.3)\n",
      "Requirement already satisfied: contourpy>=1.0.1 in /home/genji/.local/lib/python3.10/site-packages (from matplotlib->lime) (1.1.0)\n",
      "Requirement already satisfied: cycler>=0.10 in /home/genji/.local/lib/python3.10/site-packages (from matplotlib->lime) (0.11.0)\n",
      "Requirement already satisfied: fonttools>=4.22.0 in /home/genji/.local/lib/python3.10/site-packages (from matplotlib->lime) (4.42.1)\n",
      "Requirement already satisfied: kiwisolver>=1.0.1 in /home/genji/.local/lib/python3.10/site-packages (from matplotlib->lime) (1.4.5)\n",
      "Requirement already satisfied: pyparsing<3.1,>=2.3.1 in /usr/lib/python3/dist-packages (from matplotlib->lime) (2.4.7)\n",
      "Requirement already satisfied: spacy-legacy<3.1.0,>=3.0.11 in /home/genji/.local/lib/python3.10/site-packages (from spacy->anchor-exp) (3.0.12)\n",
      "Requirement already satisfied: spacy-loggers<2.0.0,>=1.0.0 in /home/genji/.local/lib/python3.10/site-packages (from spacy->anchor-exp) (1.0.4)\n",
      "Requirement already satisfied: murmurhash<1.1.0,>=0.28.0 in /home/genji/.local/lib/python3.10/site-packages (from spacy->anchor-exp) (1.0.9)\n",
      "Requirement already satisfied: cymem<2.1.0,>=2.0.2 in /home/genji/.local/lib/python3.10/site-packages (from spacy->anchor-exp) (2.0.7)\n",
      "Requirement already satisfied: preshed<3.1.0,>=3.0.2 in /home/genji/.local/lib/python3.10/site-packages (from spacy->anchor-exp) (3.0.8)\n",
      "Requirement already satisfied: thinc<8.2.0,>=8.1.8 in /home/genji/.local/lib/python3.10/site-packages (from spacy->anchor-exp) (8.1.12)\n",
      "Requirement already satisfied: wasabi<1.2.0,>=0.9.1 in /home/genji/.local/lib/python3.10/site-packages (from spacy->anchor-exp) (1.1.2)\n",
      "Requirement already satisfied: srsly<3.0.0,>=2.4.3 in /home/genji/.local/lib/python3.10/site-packages (from spacy->anchor-exp) (2.4.7)\n",
      "Requirement already satisfied: catalogue<2.1.0,>=2.0.6 in /home/genji/.local/lib/python3.10/site-packages (from spacy->anchor-exp) (2.0.9)\n",
      "Requirement already satisfied: typer<0.10.0,>=0.3.0 in /home/genji/.local/lib/python3.10/site-packages (from spacy->anchor-exp) (0.9.0)\n",
      "Requirement already satisfied: pathy>=0.10.0 in /home/genji/.local/lib/python3.10/site-packages (from spacy->anchor-exp) (0.10.2)\n",
      "Requirement already satisfied: smart-open<7.0.0,>=5.2.1 in /home/genji/.local/lib/python3.10/site-packages (from spacy->anchor-exp) (6.3.0)\n",
      "Requirement already satisfied: requests<3.0.0,>=2.13.0 in /home/genji/.local/lib/python3.10/site-packages (from spacy->anchor-exp) (2.31.0)\n",
      "Requirement already satisfied: pydantic!=1.8,!=1.8.1,<3.0.0,>=1.7.4 in /home/genji/.local/lib/python3.10/site-packages (from spacy->anchor-exp) (2.3.0)\n",
      "Requirement already satisfied: jinja2 in /home/genji/.local/lib/python3.10/site-packages (from spacy->anchor-exp) (3.1.2)\n",
      "Requirement already satisfied: setuptools in /usr/lib/python3/dist-packages (from spacy->anchor-exp) (59.6.0)\n",
      "Requirement already satisfied: langcodes<4.0.0,>=3.2.0 in /home/genji/.local/lib/python3.10/site-packages (from spacy->anchor-exp) (3.3.0)\n",
      "Requirement already satisfied: annotated-types>=0.4.0 in /home/genji/.local/lib/python3.10/site-packages (from pydantic!=1.8,!=1.8.1,<3.0.0,>=1.7.4->spacy->anchor-exp) (0.5.0)\n",
      "Requirement already satisfied: pydantic-core==2.6.3 in /home/genji/.local/lib/python3.10/site-packages (from pydantic!=1.8,!=1.8.1,<3.0.0,>=1.7.4->spacy->anchor-exp) (2.6.3)\n",
      "Requirement already satisfied: typing-extensions>=4.6.1 in /home/genji/.local/lib/python3.10/site-packages (from pydantic!=1.8,!=1.8.1,<3.0.0,>=1.7.4->spacy->anchor-exp) (4.7.1)\n",
      "Requirement already satisfied: six>=1.5 in /usr/lib/python3/dist-packages (from python-dateutil>=2.8.2->pandas>=1.3->river) (1.16.0)\n",
      "Requirement already satisfied: charset-normalizer<4,>=2 in /home/genji/.local/lib/python3.10/site-packages (from requests<3.0.0,>=2.13.0->spacy->anchor-exp) (3.2.0)\n",
      "Requirement already satisfied: idna<4,>=2.5 in /home/genji/.local/lib/python3.10/site-packages (from requests<3.0.0,>=2.13.0->spacy->anchor-exp) (3.4)\n",
      "Requirement already satisfied: urllib3<3,>=1.21.1 in /home/genji/.local/lib/python3.10/site-packages (from requests<3.0.0,>=2.13.0->spacy->anchor-exp) (2.0.4)\n",
      "Requirement already satisfied: certifi>=2017.4.17 in /home/genji/.local/lib/python3.10/site-packages (from requests<3.0.0,>=2.13.0->spacy->anchor-exp) (2023.7.22)\n",
      "Requirement already satisfied: blis<0.8.0,>=0.7.8 in /home/genji/.local/lib/python3.10/site-packages (from thinc<8.2.0,>=8.1.8->spacy->anchor-exp) (0.7.10)\n",
      "Requirement already satisfied: confection<1.0.0,>=0.0.1 in /home/genji/.local/lib/python3.10/site-packages (from thinc<8.2.0,>=8.1.8->spacy->anchor-exp) (0.1.1)\n",
      "Requirement already satisfied: click<9.0.0,>=7.1.1 in /home/genji/.local/lib/python3.10/site-packages (from typer<0.10.0,>=0.3.0->spacy->anchor-exp) (8.1.7)\n",
      "Requirement already satisfied: MarkupSafe>=2.0 in /home/genji/.local/lib/python3.10/site-packages (from jinja2->spacy->anchor-exp) (2.1.3)\n"
     ]
    }
   ],
   "source": [
    "!pip install numpy pyDOE2 scikit-learn lime anchor-exp tabulate river pytest"
   ]
  },
  {
   "cell_type": "markdown",
   "metadata": {
    "id": "j5W_DJZWK-V_"
   },
   "source": [
    "# Experiments "
   ]
  },
  {
   "cell_type": "markdown",
   "metadata": {
    "id": "pTVA7PrLK-WF"
   },
   "source": [
    "## Functions"
   ]
  },
  {
   "cell_type": "code",
   "execution_count": 3,
   "metadata": {},
   "outputs": [
    {
     "name": "stdout",
     "output_type": "stream",
     "text": [
      "Index:  444\n"
     ]
    },
    {
     "ename": "NameError",
     "evalue": "name 'utils' is not defined",
     "output_type": "error",
     "traceback": [
      "\u001b[0;31m---------------------------------------------------------------------------\u001b[0m",
      "\u001b[0;31mNameError\u001b[0m                                 Traceback (most recent call last)",
      "Cell \u001b[0;32mIn[3], line 27\u001b[0m\n\u001b[1;32m     24\u001b[0m     \u001b[38;5;28;01mreturn\u001b[39;00m trg, label\n\u001b[1;32m     26\u001b[0m i \u001b[38;5;241m=\u001b[39m \u001b[38;5;241m444\u001b[39m\n\u001b[0;32m---> 27\u001b[0m \u001b[43mget_trg_sample\u001b[49m\u001b[43m(\u001b[49m\u001b[38;5;241;43m444\u001b[39;49m\u001b[43m)\u001b[49m\n\u001b[1;32m     28\u001b[0m get_trg_sample(\u001b[38;5;241m542\u001b[39m)\n\u001b[1;32m     30\u001b[0m     \u001b[38;5;66;03m# raw_dataset2 = utils.load_csv_dataset(\u001b[39;00m\n\u001b[1;32m     31\u001b[0m     \u001b[38;5;66;03m#     os.path.join(dataset_folder, 'recidivism/Data_1980.csv'), 16,\u001b[39;00m\n\u001b[1;32m     32\u001b[0m     \u001b[38;5;66;03m#     discretize=False,\u001b[39;00m\n\u001b[1;32m     33\u001b[0m     \u001b[38;5;66;03m#     features_to_use=None, balance=True)\u001b[39;00m\n\u001b[1;32m     34\u001b[0m     \u001b[38;5;66;03m# trg_data2 = list(zip(raw_dataset2.feature_names, raw_dataset2.test[index]))\u001b[39;00m\n\u001b[1;32m     35\u001b[0m     \u001b[38;5;66;03m# print(tabulate(trg_data2))\u001b[39;00m\n",
      "Cell \u001b[0;32mIn[3], line 7\u001b[0m, in \u001b[0;36mget_trg_sample\u001b[0;34m(index)\u001b[0m\n\u001b[1;32m      5\u001b[0m \u001b[38;5;28;01mdef\u001b[39;00m \u001b[38;5;21mget_trg_sample\u001b[39m(index):\n\u001b[1;32m      6\u001b[0m     \u001b[38;5;28mprint\u001b[39m(\u001b[38;5;124m'\u001b[39m\u001b[38;5;124mIndex: \u001b[39m\u001b[38;5;124m'\u001b[39m, index)\n\u001b[0;32m----> 7\u001b[0m     raw_dataset \u001b[38;5;241m=\u001b[39m \u001b[43mutils\u001b[49m\u001b[38;5;241m.\u001b[39mload_dataset(\n\u001b[1;32m      8\u001b[0m         dataset_name, balance\u001b[38;5;241m=\u001b[39m\u001b[38;5;28;01mTrue\u001b[39;00m, dataset_folder\u001b[38;5;241m=\u001b[39mdataset_folder, discretize\u001b[38;5;241m=\u001b[39m\u001b[38;5;28;01mFalse\u001b[39;00m)\n\u001b[1;32m      9\u001b[0m     trg \u001b[38;5;241m=\u001b[39m dataset\u001b[38;5;241m.\u001b[39mtest[index]\n\u001b[1;32m     10\u001b[0m     label \u001b[38;5;241m=\u001b[39m dataset\u001b[38;5;241m.\u001b[39mlabels_test[index]\n",
      "\u001b[0;31mNameError\u001b[0m: name 'utils' is not defined"
     ]
    }
   ],
   "source": [
    "from tabulate import tabulate\n",
    "import time\n",
    "import csv\n",
    "\n",
    "def get_trg_sample(index):\n",
    "    print('Index: ', index)\n",
    "    raw_dataset = utils.load_dataset(\n",
    "        dataset_name, balance=True, dataset_folder=dataset_folder, discretize=False)\n",
    "    trg = dataset.test[index]\n",
    "    label = dataset.labels_test[index]\n",
    "    \n",
    "    trg_data = list(zip(raw_dataset.feature_names, raw_dataset.test[index]))\n",
    "    \n",
    "    print('Prediction:', raw_dataset.class_names[rf.predict(trg.reshape(1, -1))[0]])\n",
    "    print('True:      ', raw_dataset.class_names[dataset.labels_test[index]])\n",
    "    print(tabulate(trg_data))\n",
    "    f = open('img/%s/%05d-instance.txt' % (dataset_name, index), 'w')\n",
    "    f.write(tabulate(trg_data))\n",
    "    f.close()\n",
    "    with open('img/%s/%05d-instance.csv' % (dataset_name, index), 'w', newline='') as file:\n",
    "        writer = csv.writer(file)\n",
    "        writer.writerows([['feature', 'value']])\n",
    "        writer.writerows(trg_data)\n",
    "    return trg, label\n",
    "    \n",
    "i = 444\n",
    "get_trg_sample(444)\n",
    "get_trg_sample(542)\n",
    "\n",
    "    # raw_dataset2 = utils.load_csv_dataset(\n",
    "    #     os.path.join(dataset_folder, 'recidivism/Data_1980.csv'), 16,\n",
    "    #     discretize=False,\n",
    "    #     features_to_use=None, balance=True)\n",
    "    # trg_data2 = list(zip(raw_dataset2.feature_names, raw_dataset2.test[index]))\n",
    "    # print(tabulate(trg_data2))"
   ]
  },
  {
   "cell_type": "code",
   "execution_count": null,
   "metadata": {},
   "outputs": [],
   "source": [
    "import explanation\n",
    "import lime_tabular\n",
    "\n",
    "def lime_original(trg, trg_label):\n",
    "    lime_explainer = lime_tabular.LimeTabularExplainer(\n",
    "        dataset.train,\n",
    "        feature_names=dataset.feature_names,\n",
    "        class_names=dataset.class_names,\n",
    "        discretize_continuous=False)\n",
    "    lime_exp = lime_explainer.explain_instance(\n",
    "        trg, rf.predict_proba, num_features=5, top_labels=1)\n",
    "    # lime_exp.show_in_notebook(show_table=True, show_all=True)\n",
    "    weights = [0] * len(dataset.feature_names)\n",
    "    for t in lime_exp.local_exp[trg_label]:\n",
    "        weights[t[0]] = t[1] * (trg_label * 2 - 1)\n",
    "    plot_weights(weights, dataset.feature_names)"
   ]
  },
  {
   "cell_type": "code",
   "execution_count": null,
   "metadata": {},
   "outputs": [],
   "source": [
    "from anchor import anchor_tabular\n",
    "\n",
    "def anchor_original(trg, threshold=0.85):\n",
    "    anchor_explainer = anchor_tabular.AnchorTabularExplainer(\n",
    "        dataset.class_names,\n",
    "        dataset.feature_names,\n",
    "        dataset.train,\n",
    "        dataset.categorical_names)\n",
    "    anchor_exp = anchor_explainer.explain_instance(\n",
    "        trg, rf.predict, threshold)\n",
    "\n",
    "    print('Threshold:  %.2f' % threshold)\n",
    "    # print('Prediction:', anchor_explainer.class_names[rf.predict(trg.reshape(1, -1))[0]])\n",
    "    print('Anchor:     %s' % (' AND '.join(anchor_exp.names())))\n",
    "    print('Precision:  %.2f' % anchor_exp.precision())\n",
    "    print('Coverage:   %.2f' % anchor_exp.coverage())"
   ]
  },
  {
   "cell_type": "code",
   "execution_count": null,
   "metadata": {},
   "outputs": [],
   "source": [
    "import my_anchor_base\n",
    "import my_anchor_tabular\n",
    "\n",
    "# display\n",
    "import matplotlib.pyplot as plt\n",
    "    \n",
    "import importlib\n",
    "importlib.reload(my_anchor_base)\n",
    "importlib.reload(my_anchor_tabular)\n",
    "\n",
    "def new_lime(trg, threshold=0.90):\n",
    "    anchor_explainer = my_anchor_tabular.AnchorTabularExplainer(\n",
    "        dataset.class_names,\n",
    "        dataset.feature_names,\n",
    "        dataset.train,\n",
    "        dataset.categorical_names)\n",
    "    anchor_exp, surrogate_model = anchor_explainer.explain_instance(trg, rf.predict, threshold=threshold)\n",
    "    plot_weights(\n",
    "        list(surrogate_model['LogisticRegression'].weights.values()),\n",
    "        dataset.feature_names,\n",
    "        ' AND '.join(anchor_exp.names()),\n",
    "        anchor_exp.precision(),\n",
    "        anchor_exp.coverage()\n",
    "    )\n",
    "    "
   ]
  },
  {
   "cell_type": "code",
   "execution_count": null,
   "metadata": {},
   "outputs": [],
   "source": [
    "def plot_weights(weights, feature_names, anchor=None, precision=None, coverage=None):\n",
    "    features = feature_names\n",
    "    values = weights\n",
    "    abs_values = [abs(x) for x in values]\n",
    "    _, sorted_features, sorted_values = zip(*sorted(zip(abs_values, features, values), reverse=False)[-5:])\n",
    "    plt.figure()\n",
    "    color = ['#32a852' if sorted_values[i] > 0 else '#cf4529' for i in range(len(sorted_values))]\n",
    "    plt.barh(sorted_features, sorted_values, color=color)\n",
    "    anchor_str = ''\n",
    "    \n",
    "    if anchor != None:\n",
    "        plt.title('%s\\nwith Precision %.2f and Coverage %.2f' % (anchor, precision, coverage))\n",
    "    for i in range(len(sorted_features)):\n",
    "        plt.text(sorted_values[i], sorted_features[i], round(sorted_values[i], 5))\n",
    "    plt.show"
   ]
  },
  {
   "cell_type": "markdown",
   "metadata": {
    "id": "pTVA7PrLK-WF"
   },
   "source": [
    "## Generating Explanations"
   ]
  },
  {
   "cell_type": "code",
   "execution_count": null,
   "metadata": {
    "executionInfo": {
     "elapsed": 1565,
     "status": "ok",
     "timestamp": 1693384132186,
     "user": {
      "displayName": "大原玄嗣",
      "userId": "17130663518414586879"
     },
     "user_tz": -540
    },
    "id": "Mk7wsr1rYrMm"
   },
   "outputs": [],
   "source": [
    "import utils\n",
    "import os\n",
    "\n",
    "dataset_folder = 'datasets/'\n",
    "dataset_name = 'recidivism'\n",
    "# dataset_name = 'adult'\n",
    "# dataset_name = 'diabetes'\n",
    "# dataset_name = 'default'\n",
    "# dataset_name = 'lending'\n",
    "\n",
    "dataset = utils.load_dataset(\n",
    "    dataset_name, balance=True, dataset_folder=dataset_folder, discretize=True)"
   ]
  },
  {
   "cell_type": "code",
   "execution_count": null,
   "metadata": {
    "colab": {
     "base_uri": "https://localhost:8080/"
    },
    "executionInfo": {
     "elapsed": 13566,
     "status": "ok",
     "timestamp": 1693384148268,
     "user": {
      "displayName": "大原玄嗣",
      "userId": "17130663518414586879"
     },
     "user_tz": -540
    },
    "id": "t4zQDCB1xgXY",
    "outputId": "67f0b135-740e-45a6-f9dd-8be81469031f"
   },
   "outputs": [],
   "source": [
    "import sklearn.ensemble\n",
    "\n",
    "rf = sklearn.ensemble.RandomForestClassifier(n_estimators=50, n_jobs=5)\n",
    "\n",
    "rf.fit(dataset.train, dataset.labels_train)\n",
    "print('Train', sklearn.metrics.accuracy_score(\n",
    "    dataset.labels_train, rf.predict(dataset.train)))\n",
    "print('Test', sklearn.metrics.accuracy_score(\n",
    "    dataset.labels_test, rf.predict(dataset.test)))"
   ]
  },
  {
   "cell_type": "code",
   "execution_count": null,
   "metadata": {},
   "outputs": [],
   "source": [
    "import numpy as np\n",
    "import random\n",
    "\n",
    "importlib.reload(my_anchor_base)\n",
    "importlib.reload(my_anchor_tabular)\n",
    "\n",
    "i = random.randint(10, dataset.test.shape[0])\n",
    "\n",
    "# adult\n",
    "# 730, 956, 1196, 1522\n",
    "# i = 1443 # --- Capital Gain = 2\n",
    "\n",
    "# recidivism \n",
    "# 444, 542\n",
    "# 72\n",
    "# i = 80 ???\n",
    "# i = 444\n",
    "i = 542\n",
    "trg, trg_label = get_trg_sample(i)"
   ]
  },
  {
   "cell_type": "code",
   "execution_count": null,
   "metadata": {},
   "outputs": [],
   "source": [
    "lime_original(trg, trg_label)\n",
    "img_file = 'img/%s/%05d-LIME.png' % (dataset_name, i)\n",
    "plt.savefig(img_file, bbox_inches='tight')"
   ]
  },
  {
   "cell_type": "code",
   "execution_count": null,
   "metadata": {
    "colab": {
     "base_uri": "https://localhost:8080/"
    },
    "executionInfo": {
     "elapsed": 612,
     "status": "ok",
     "timestamp": 1693384151469,
     "user": {
      "displayName": "大原玄嗣",
      "userId": "17130663518414586879"
     },
     "user_tz": -540
    },
    "id": "WpL00B8X06dT",
    "outputId": "5c352fb5-d9ec-461c-bed8-dc13f8972a57"
   },
   "outputs": [],
   "source": [
    "for t in [0.70, 0.75, 0.80]:\n",
    "    new_lime(trg, threshold=t)\n",
    "    img_file = 'img/%s/%05d-%03d.png' % (dataset_name, i, t * 100)\n",
    "    plt.savefig(img_file, bbox_inches='tight')"
   ]
  },
  {
   "cell_type": "code",
   "execution_count": null,
   "metadata": {},
   "outputs": [],
   "source": [
    "new_lime(trg, threshold=0.75)"
   ]
  },
  {
   "cell_type": "code",
   "execution_count": null,
   "metadata": {},
   "outputs": [],
   "source": [
    "new_lime(trg, threshold=0.80)"
   ]
  },
  {
   "cell_type": "code",
   "execution_count": null,
   "metadata": {},
   "outputs": [],
   "source": [
    "anchor_original(trg, threshold=0.80)"
   ]
  },
  {
   "cell_type": "code",
   "execution_count": null,
   "metadata": {},
   "outputs": [],
   "source": []
  }
 ],
 "metadata": {
  "colab": {
   "authorship_tag": "ABX9TyN0kC9fbDNbmc0mebrwUKVT",
   "collapsed_sections": [
    "jI2l8q9vDwmC",
    "LDo-nkw4DblO",
    "FUra4f6XDkte",
    "sFuAnPY8DpwJ",
    "QYQ-Wm17JrLV",
    "wc3XCxxJJ-aX",
    "uWULnk9jKNnF",
    "xtTn_fqoKdst"
   ],
   "provenance": [
    {
     "file_id": "1BAGBj_btcdMvhdjeKv1qqb35zqofH3gh",
     "timestamp": 1691797657695
    }
   ]
  },
  "kernelspec": {
   "display_name": "Python 3 (ipykernel)",
   "language": "python",
   "name": "python3"
  },
  "language_info": {
   "codemirror_mode": {
    "name": "ipython",
    "version": 3
   },
   "file_extension": ".py",
   "mimetype": "text/x-python",
   "name": "python",
   "nbconvert_exporter": "python",
   "pygments_lexer": "ipython3",
   "version": "3.10.12"
  }
 },
 "nbformat": 4,
 "nbformat_minor": 4
}
