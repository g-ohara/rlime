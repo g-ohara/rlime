{
 "cells": [
  {
   "cell_type": "markdown",
   "metadata": {
    "id": "pTVA7PrLK-WF"
   },
   "source": [
    "## Generating Explanations"
   ]
  },
  {
   "cell_type": "markdown",
   "metadata": {},
   "source": [
    "### Load dataset"
   ]
  },
  {
   "cell_type": "code",
   "execution_count": 18,
   "metadata": {
    "executionInfo": {
     "elapsed": 1565,
     "status": "ok",
     "timestamp": 1693384132186,
     "user": {
      "displayName": "大原玄嗣",
      "userId": "17130663518414586879"
     },
     "user_tz": -540
    },
    "id": "Mk7wsr1rYrMm"
   },
   "outputs": [
    {
     "name": "stdout",
     "output_type": "stream",
     "text": [
      "['No more crimes', 'Re-arrested']\n",
      "5635\n",
      "705\n",
      "6340\n"
     ]
    }
   ],
   "source": [
    "import newlime_utils\n",
    "import importlib\n",
    "importlib.reload(newlime_utils)\n",
    "\n",
    "dataset_folder = 'anchor-experiments/datasets/'\n",
    "dataset_name = 'recidivism'\n",
    "# dataset_name = 'adult'\n",
    "# dataset_name = 'diabetes'\n",
    "# dataset_name = 'default'\n",
    "# dataset_name = 'lending'\n",
    "\n",
    "# dataset = utils.load_dataset(\n",
    "    # dataset_name, balance=True, dataset_folder=dataset_folder, discretize=True)\n",
    "\n",
    "dataset = newlime_utils.load_dataset(dataset_name, dataset_folder, balance=True)\n",
    "print(dataset.class_names)\n",
    "\n",
    "print(dataset.train.shape[0])\n",
    "print(dataset.test.shape[0])\n",
    "print(dataset.train.shape[0] + dataset.test.shape[0])"
   ]
  },
  {
   "cell_type": "markdown",
   "metadata": {
    "jp-MarkdownHeadingCollapsed": true
   },
   "source": [
    "### Learn black box model"
   ]
  },
  {
   "cell_type": "code",
   "execution_count": 19,
   "metadata": {
    "colab": {
     "base_uri": "https://localhost:8080/"
    },
    "executionInfo": {
     "elapsed": 13566,
     "status": "ok",
     "timestamp": 1693384148268,
     "user": {
      "displayName": "大原玄嗣",
      "userId": "17130663518414586879"
     },
     "user_tz": -540
    },
    "id": "t4zQDCB1xgXY",
    "outputId": "67f0b135-740e-45a6-f9dd-8be81469031f"
   },
   "outputs": [
    {
     "name": "stdout",
     "output_type": "stream",
     "text": [
      "RandomForestClassifier(n_estimators=50, n_jobs=5)\n",
      "Train 0.935226264418811\n",
      "Test 0.7531914893617021\n",
      "LogisticRegression()\n",
      "Train 0.6083407275953859\n",
      "Test 0.6156028368794326\n"
     ]
    }
   ],
   "source": [
    "import sklearn.ensemble\n",
    "import sklearn.neural_network\n",
    "\n",
    "dataset = newlime_utils.load_dataset(dataset_name, dataset_folder, balance=True)\n",
    "\n",
    "rf = sklearn.ensemble.RandomForestClassifier(n_estimators=50, n_jobs=5)\n",
    "rf.fit(dataset.train, dataset.labels_train)\n",
    "\n",
    "lr = sklearn.linear_model.LogisticRegression()\n",
    "lr.fit(dataset.train, dataset.labels_train)\n",
    "\n",
    "for model in [rf, lr]:\n",
    "    print(model)\n",
    "    print('Train', sklearn.metrics.accuracy_score(\n",
    "        dataset.labels_train, model.predict(dataset.train)))\n",
    "    print('Test', sklearn.metrics.accuracy_score(\n",
    "        dataset.labels_test, model.predict(dataset.test)))"
   ]
  },
  {
   "cell_type": "markdown",
   "metadata": {},
   "source": [
    "### Get a sample"
   ]
  },
  {
   "cell_type": "code",
   "execution_count": 20,
   "metadata": {},
   "outputs": [
    {
     "name": "stdout",
     "output_type": "stream",
     "text": [
      "Prediction: No more crimes\n",
      "True:       Re-arrested\n",
      "----------------------  -------------------------------\n",
      "Race                    White (1)\n",
      "Alcohol                 No (0)\n",
      "Junky                   No (0)\n",
      "Supervised Release      Yes (1)\n",
      "Married                 No (0)\n",
      "Felony                  Yes (1)\n",
      "WorkRelease             Yes (1)\n",
      "Crime against Property  Yes (1)\n",
      "Crime against Person    No (0)\n",
      "Gender                  Male (1)\n",
      "Priors                  1\n",
      "YearsSchool             8.00 < YearsSchool <= 10.00 (1)\n",
      "PrisonViolations        0\n",
      "Age                     Age <= 21.00 (0)\n",
      "MonthsServed            4.00 < MonthsServed <= 9.00 (1)\n",
      "Recidivism              Re-arrested (1)\n",
      "----------------------  -------------------------------\n"
     ]
    }
   ],
   "source": [
    "import random\n",
    "from tabulate import tabulate\n",
    "\n",
    "i = random.randint(10, dataset.test.shape[0])\n",
    "\n",
    "# adult\n",
    "# 730, 956, 1196, 1522\n",
    "# i = 1443 # --- Capital Gain = 2\n",
    "i = 0\n",
    "\n",
    "# recidivism\n",
    "# i = 266\n",
    "# i = 599\n",
    "\n",
    "print_info = True\n",
    "write_file = False\n",
    "\n",
    "trg, label, tab = newlime_utils.get_trg_sample(i, dataset)\n",
    "if print_info:\n",
    "    print(\n",
    "        \"Prediction:\",\n",
    "        dataset.class_names[model.predict(trg.reshape(1, -1))[0]],\n",
    "    )\n",
    "    print(\"True:      \", dataset.class_names[dataset.labels_test[i]])\n",
    "    print(tabulate(tab))\n",
    "if write_file:\n",
    "    csv_name = f\"img/{dataset_name}/{index:05d}-instance.csv\"\n",
    "    with open(csv_name, \"w\", newline=\"\", encoding=\"utf-8\") as file:\n",
    "        writer = csv.writer(file)\n",
    "        writer.writerows([[\"feature\", \"value\"]])\n",
    "        writer.writerows(tab)"
   ]
  },
  {
   "cell_type": "markdown",
   "metadata": {},
   "source": [
    "### LIME"
   ]
  },
  {
   "cell_type": "code",
   "execution_count": 21,
   "metadata": {},
   "outputs": [
    {
     "data": {
      "image/png": "[encoded data removed]",
      "text/plain": [
       "<Figure size 640x480 with 1 Axes>"
      ]
     },
     "metadata": {},
     "output_type": "display_data"
    }
   ],
   "source": [
    "import matplotlib.pyplot as plt\n",
    "importlib.reload(newlime_utils)\n",
    "\n",
    "weights = newlime_utils.lime_original(trg, rf.predict([dataset.test[i]])[0], dataset, rf)\n",
    "newlime_utils.plot_weights(weights, dataset.feature_names)\n",
    "plt.show()\n",
    "\n",
    "write_file = False\n",
    "if write_file:\n",
    "    img_file = 'img/%s/%05d-LIME.png' % (dataset_name, i)\n",
    "    plt.savefig(img_file, bbox_inches='tight')\n",
    "\n",
    "plt.close()"
   ]
  },
  {
   "cell_type": "markdown",
   "metadata": {},
   "source": [
    "### Anchor"
   ]
  },
  {
   "cell_type": "code",
   "execution_count": 26,
   "metadata": {},
   "outputs": [
    {
     "name": "stdout",
     "output_type": "stream",
     "text": [
      "Threshold:  0.80\n",
      "Anchor:     Age <= 21.00 AND Felony = Yes AND Married = No AND 8.00 < YearsSchool <= 10.00 AND Crime against Property = Yes AND WorkRelease = Yes\n",
      "Precision:  0.83\n",
      "Coverage:   0.01\n"
     ]
    }
   ],
   "source": [
    "importlib.reload(newlime_utils)\n",
    "\n",
    "threshold, anchor_str, prec, cov = newlime_utils.anchor_original(\n",
    "    trg, dataset, rf, threshold=0.80\n",
    ")\n",
    "print(f\"Threshold:  {threshold:.2f}\")                                       \n",
    "print(f\"Anchor:     {anchor_str}\")                                          \n",
    "print(f\"Precision:  {prec:.2f}\")                          \n",
    "print(f\"Coverage:   {cov:.2f}\") "
   ]
  },
  {
   "cell_type": "markdown",
   "metadata": {},
   "source": [
    "### New LIME"
   ]
  },
  {
   "cell_type": "code",
   "execution_count": 55,
   "metadata": {
    "colab": {
     "base_uri": "https://localhost:8080/"
    },
    "executionInfo": {
     "elapsed": 612,
     "status": "ok",
     "timestamp": 1693384151469,
     "user": {
      "displayName": "大原玄嗣",
      "userId": "17130663518414586879"
     },
     "user_tz": -540
    },
    "id": "WpL00B8X06dT",
    "outputId": "5c352fb5-d9ec-461c-bed8-dc13f8972a57",
    "scrolled": true
   },
   "outputs": [
    {
     "name": "stdout",
     "output_type": "stream",
     "text": [
      "0.6\n"
     ]
    },
    {
     "data": {
      "image/png": "[encoded data removed]",
      "text/plain": [
       "<Figure size 640x480 with 1 Axes>"
      ]
     },
     "metadata": {},
     "output_type": "display_data"
    }
   ],
   "source": [
    "import newlime_tabular\n",
    "import newlime_base\n",
    "importlib.reload(newlime_tabular)\n",
    "importlib.reload(newlime_utils)\n",
    "importlib.reload(newlime_base)\n",
    "\n",
    "write_file = False\n",
    "\n",
    "# i = random.randint(10, dataset.test.shape[0])\n",
    "# i = 0\n",
    "# trg, trg_label = newlime_utils.sample(i, dataset, dataset_name, rf)\n",
    "\n",
    "newlime_explainer = newlime_tabular.NewLimeTabularExplainer(\n",
    "    dataset.class_names, dataset.feature_names, dataset.train, dataset.categorical_names\n",
    ")\n",
    "for t in [0.60]:  # [0.70, 0.80, 0.90, 0.95]:\n",
    "    print(t)\n",
    "    hyper_param = newlime_tabular.HyperParam(\n",
    "        delta = 0.05,\n",
    "        epsilon = 0.1, \n",
    "        epsilon_stop = 0.05,\n",
    "        beam_size = 10,\n",
    "        batch_size = 100,\n",
    "        desired_confidence = t,\n",
    "        coverage_samples_num = 10000,\n",
    "        max_rule_length = None,\n",
    "    )\n",
    "    result = newlime_explainer.my_explain_instance(\n",
    "        trg, rf.predict, hyper_param\n",
    "    )\n",
    "    if result is not None:\n",
    "        anchor_exp, surrogate_model = result\n",
    "        if surrogate_model is not None:\n",
    "            weights = list(surrogate_model[\"LogisticRegression\"].weights.values())\n",
    "            newlime_utils.plot_weights(weights, dataset.feature_names, anchor_exp)\n",
    "            if write_file:\n",
    "                img_file = 'img/%s/%05d-%03d.png' % (dataset_name, i, t * 100)\n",
    "                plt.savefig(img_file, bbox_inches='tight')"
   ]
  },
  {
   "cell_type": "markdown",
   "metadata": {},
   "source": [
    "## Imbalanced Data"
   ]
  },
  {
   "cell_type": "markdown",
   "metadata": {},
   "source": [
    "### Check balance of datasets"
   ]
  },
  {
   "cell_type": "code",
   "execution_count": 24,
   "metadata": {},
   "outputs": [
    {
     "ename": "NameError",
     "evalue": "name 'newlime_base' is not defined",
     "output_type": "error",
     "traceback": [
      "\u001b[0;31m---------------------------------------------------------------------------\u001b[0m",
      "\u001b[0;31mNameError\u001b[0m                                 Traceback (most recent call last)",
      "Cell \u001b[0;32mIn[24], line 2\u001b[0m\n\u001b[1;32m      1\u001b[0m \u001b[38;5;28;01mimport\u001b[39;00m \u001b[38;5;21;01mimportlib\u001b[39;00m\n\u001b[0;32m----> 2\u001b[0m importlib\u001b[38;5;241m.\u001b[39mreload(\u001b[43mnewlime_base\u001b[49m)\n\u001b[1;32m      3\u001b[0m importlib\u001b[38;5;241m.\u001b[39mreload(newlime_tabular)\n\u001b[1;32m      4\u001b[0m importlib\u001b[38;5;241m.\u001b[39mreload(newlime_utils)\n",
      "\u001b[0;31mNameError\u001b[0m: name 'newlime_base' is not defined"
     ]
    }
   ],
   "source": [
    "import importlib\n",
    "importlib.reload(newlime_base)\n",
    "importlib.reload(newlime_tabular)\n",
    "importlib.reload(newlime_utils)\n",
    "\n",
    "for dataset_name in [\"adult\", \"recidivism\", \"lending\"]:\n",
    "    print(dataset_name)\n",
    "    balanced = newlime_utils.load_dataset(dataset_name, dataset_folder, balance=True)\n",
    "    imbalanced = newlime_utils.load_dataset(dataset_name, dataset_folder, balance=False)\n",
    "    for d, s in zip([balanced, imbalanced], [\"Balanced:   \", \"Imbalanced: \"]):\n",
    "        label_count = [0, 0]\n",
    "        for l in [int(x) for x in d.labels_train.tolist()]:\n",
    "            label_count[l] += 1\n",
    "        print(s, label_count)\n",
    "    print()"
   ]
  },
  {
   "cell_type": "markdown",
   "metadata": {},
   "source": [
    "### Undersampling"
   ]
  },
  {
   "cell_type": "code",
   "execution_count": null,
   "metadata": {},
   "outputs": [],
   "source": [
    "import numpy as np\n",
    "\n",
    "dataset_folder = 'anchor-experiments/datasets/'\n",
    "dataset_name = 'recidivism'\n",
    "dataset = newlime_utils.load_dataset(dataset_name, dataset_folder, balance=False)\n",
    "\n",
    "print(dataset.train.shape)\n",
    "print(dataset.labels_train.shape)\n",
    "print(dataset.train_idx.shape)\n",
    "\n",
    "print(dataset.validation.shape)\n",
    "print(dataset.labels_validation.shape)\n",
    "print(dataset.validation_idx.shape)\n",
    "\n",
    "print(dataset.test.shape)\n",
    "print(dataset.labels_test.shape)\n",
    "print(dataset.test_idx.shape)\n",
    "\n",
    "# get indexes of data rows that will be deleted\n",
    "minor_class = 1\n",
    "minor_data_num = 80\n",
    "minor_data_idx = []\n",
    "for i, l in enumerate(dataset.labels):\n",
    "    if l == minor_class:\n",
    "        minor_data_idx.append(i)\n",
    "np.random.seed(1024)\n",
    "del_list = np.random.choice(\n",
    "    minor_data_idx,\n",
    "    len(minor_data_idx) - minor_data_num,\n",
    "    replace=False,\n",
    ")\n",
    "\n",
    "del_train_list = []\n",
    "for i, x in enumerate(dataset.train_idx):\n",
    "    if x in del_list:\n",
    "        del_train_list.append(i)\n",
    "\n",
    "del_valid_list = []\n",
    "for i, x in enumerate(dataset.validation_idx):\n",
    "    if x in del_list:\n",
    "        del_valid_list.append(i)\n",
    "\n",
    "del_test_list = []\n",
    "for i, x in enumerate(dataset.test_idx):\n",
    "    if x in del_list:\n",
    "        del_test_list.append(i)\n",
    "\n",
    "label_count = [0, 0]\n",
    "for l in [int(x) for x in dataset.labels_train.tolist()]:\n",
    "    label_count[l] += 1\n",
    "print(label_count)\n",
    "\n",
    "label_count = [0, 0]\n",
    "for l in [int(x) for x in dataset.labels_validation.tolist()]:\n",
    "    label_count[l] += 1\n",
    "print(label_count)\n",
    "\n",
    "label_count = [0, 0]\n",
    "for l in [int(x) for x in dataset.labels_test.tolist()]:\n",
    "    label_count[l] += 1\n",
    "print(label_count)\n",
    "\n",
    "dataset.data = np.delete(dataset.data, del_list, axis=0)\n",
    "dataset.labels = np.delete(dataset.labels, del_list, axis=0)\n",
    "\n",
    "dataset.train = np.delete(dataset.train, del_train_list, axis=0)\n",
    "dataset.labels_train = dataset.data = np.delete(dataset.labels_train, del_train_list, axis=0)\n",
    "dataset.train_idx = np.delete(dataset.train_idx, del_train_list, axis=0)\n",
    "\n",
    "dataset.validation = np.delete(dataset.validation, del_valid_list, axis=0)\n",
    "dataset.labels_validation = np.delete(dataset.labels_validation, del_valid_list, axis=0)\n",
    "dataset.validation_idx = np.delete(dataset.validation_idx, del_valid_list, axis=0)\n",
    "\n",
    "dataset.test = np.delete(dataset.test, del_test_list, axis=0)\n",
    "dataset.labels_test = np.delete(dataset.labels_test, del_test_list, axis=0)\n",
    "dataset.test_idx = np.delete(dataset.test_idx, del_test_list, axis=0)\n",
    "\n",
    "label_count = [0, 0]\n",
    "for l in [int(x) for x in dataset.labels_train.tolist()]:\n",
    "    label_count[l] += 1\n",
    "print(label_count)\n",
    "\n",
    "label_count = [0, 0]\n",
    "for l in [int(x) for x in dataset.labels_validation.tolist()]:\n",
    "    label_count[l] += 1\n",
    "print(label_count)\n",
    "\n",
    "label_count = [0, 0]\n",
    "for l in [int(x) for x in dataset.labels_test.tolist()]:\n",
    "    label_count[l] += 1\n",
    "print(label_count)\n",
    "\n",
    "print(dataset.train.shape)\n",
    "print(dataset.labels_train.shape)\n",
    "print(dataset.train_idx.shape)\n",
    "\n",
    "print(dataset.validation.shape)\n",
    "print(dataset.labels_validation.shape)\n",
    "print(dataset.validation_idx.shape)\n",
    "\n",
    "print(dataset.test.shape)\n",
    "print(dataset.labels_test.shape)\n",
    "print(dataset.test_idx.shape)"
   ]
  },
  {
   "cell_type": "code",
   "execution_count": null,
   "metadata": {},
   "outputs": [],
   "source": [
    "import importlib\n",
    "importlib.reload(newlime_base)\n",
    "importlib.reload(newlime_tabular)\n",
    "importlib.reload(newlime_utils)\n",
    "\n",
    "t = 0.8\n",
    "num_calc = 1000\n",
    "\n",
    "covs = []\n",
    "for i in range(num_calc):\n",
    "    trg, trg_label = sample(None, dataset, dataset_name, print_info=False)\n",
    "    result = new_lime(\n",
    "        trg, \n",
    "        dataset, \n",
    "        threshold=t, \n",
    "        beam_size=1, \n",
    "        epsilon=0.1, \n",
    "        my_verbose=True, \n",
    "        print_info=False\n",
    "    )\n",
    "    if result is None:\n",
    "        print(\"None\")\n",
    "        i -= 1\n",
    "        continue\n",
    "    _, _, cov = result\n",
    "    covs.append(cov)\n",
    "    print(cov)\n",
    "    print(i + 1, \"/\", num_calc)\n",
    "    \n",
    "print(np.average(covs))\n",
    "print(np.std(covs))"
   ]
  },
  {
   "cell_type": "code",
   "execution_count": null,
   "metadata": {},
   "outputs": [],
   "source": [
    "balanced = newlime_utils.load_dataset(dataset_name, dataset_folder, balance=True)\n",
    "\n",
    "covs = []\n",
    "for i in range(num_calc):\n",
    "    trg, trg_label = sample(None, balanced, dataset_name, print_info=False)\n",
    "    result = new_lime(\n",
    "        trg, \n",
    "        balanced, \n",
    "        threshold=t, \n",
    "        beam_size=1, \n",
    "        epsilon=0.1, \n",
    "        my_verbose=True, \n",
    "        print_info=False,\n",
    "    )\n",
    "    if result is None:\n",
    "        print(\"None\")\n",
    "        i -= 1\n",
    "        continue\n",
    "    _, _, cov = result\n",
    "    covs.append(cov)\n",
    "    print(cov)\n",
    "    print(i + 1, \"/\", num_calc)\n",
    "print(np.average(covs))\n",
    "print(np.std(covs))"
   ]
  }
 ],
 "metadata": {
  "colab": {
   "authorship_tag": "ABX9TyN0kC9fbDNbmc0mebrwUKVT",
   "collapsed_sections": [
    "jI2l8q9vDwmC",
    "LDo-nkw4DblO",
    "FUra4f6XDkte",
    "sFuAnPY8DpwJ",
    "QYQ-Wm17JrLV",
    "wc3XCxxJJ-aX",
    "uWULnk9jKNnF",
    "xtTn_fqoKdst"
   ],
   "provenance": [
    {
     "file_id": "1BAGBj_btcdMvhdjeKv1qqb35zqofH3gh",
     "timestamp": 1691797657695
    }
   ]
  },
  "kernelspec": {
   "display_name": "Python 3 (ipykernel)",
   "language": "python",
   "name": "python3"
  },
  "language_info": {
   "codemirror_mode": {
    "name": "ipython",
    "version": 3
   },
   "file_extension": ".py",
   "mimetype": "text/x-python",
   "name": "python",
   "nbconvert_exporter": "python",
   "pygments_lexer": "ipython3",
   "version": "3.10.12"
  }
 },
 "nbformat": 4,
 "nbformat_minor": 4
}
