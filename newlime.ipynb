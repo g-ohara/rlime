{
 "cells": [
  {
   "cell_type": "markdown",
   "metadata": {
    "id": "pTVA7PrLK-WF"
   },
   "source": [
    "## Functions"
   ]
  },
  {
   "cell_type": "code",
   "execution_count": 1,
   "metadata": {
    "scrolled": true
   },
   "outputs": [],
   "source": [
    "from anchor import utils\n",
    "\n",
    "import time\n",
    "import csv\n",
    "import newlime_utils\n",
    "\n",
    "from tabulate import tabulate\n",
    "\n",
    "def sample(index, dataset, dataset_name, dataset_folder, write_file=False):\n",
    "    trg, label, tab = newlime_utils.get_trg_sample(index, dataset, dataset_name)\n",
    "    \n",
    "    print('Prediction:', dataset.class_names[rf.predict(trg.reshape(1, -1))[0]])\n",
    "    print('True:      ', dataset.class_names[dataset.labels_test[index]])\n",
    "    print(tabulate(tab))\n",
    "    if write_file:\n",
    "        with open('img/%s/%05d-instance.csv' % (dataset_name, index), 'w', newline='') as file:\n",
    "            writer = csv.writer(file)\n",
    "            writer.writerows([['feature', 'value']])\n",
    "            writer.writerows(tab)\n",
    "    return trg, label"
   ]
  },
  {
   "cell_type": "code",
   "execution_count": 2,
   "metadata": {},
   "outputs": [],
   "source": [
    "from lime import explanation\n",
    "from lime import lime_tabular\n",
    "\n",
    "def lime_original(trg, pred_label):\n",
    "    lime_explainer = lime_tabular.LimeTabularExplainer(\n",
    "        dataset.train,\n",
    "        feature_names=dataset.feature_names,\n",
    "        class_names=dataset.class_names,\n",
    "        discretize_continuous=False)\n",
    "    lime_exp = lime_explainer.explain_instance(\n",
    "        trg, rf.predict_proba, num_features=5, top_labels=1)\n",
    "    # lime_exp.show_in_notebook(show_table=True, show_all=True)\n",
    "    weights = [0] * len(dataset.feature_names)\n",
    "    for t in lime_exp.local_exp[pred_label]:\n",
    "        weights[t[0]] = t[1] * (pred_label * 2 - 1)\n",
    "    newlime_utils.plot_weights(weights, dataset.feature_names)"
   ]
  },
  {
   "cell_type": "code",
   "execution_count": 3,
   "metadata": {},
   "outputs": [],
   "source": [
    "from anchor import anchor_tabular\n",
    "\n",
    "def anchor_original(trg, threshold=0.85):\n",
    "    anchor_explainer = anchor_tabular.AnchorTabularExplainer(\n",
    "        dataset.class_names,\n",
    "        dataset.feature_names,\n",
    "        dataset.train,\n",
    "        dataset.categorical_names)\n",
    "    anchor_exp = anchor_explainer.explain_instance(\n",
    "        trg, rf.predict, threshold)\n",
    "\n",
    "    print('Threshold:  %.2f' % threshold)\n",
    "    # print('Prediction:', anchor_explainer.class_names[rf.predict(trg.reshape(1, -1))[0]])\n",
    "    print('Anchor:     %s' % (' AND '.join(anchor_exp.names())))\n",
    "    print('Precision:  %.2f' % anchor_exp.precision())\n",
    "    print('Coverage:   %.2f' % anchor_exp.coverage())"
   ]
  },
  {
   "cell_type": "code",
   "execution_count": 4,
   "metadata": {},
   "outputs": [],
   "source": [
    "import newlime_base\n",
    "import newlime_tabular\n",
    "import newlime_utils\n",
    "\n",
    "def new_lime(trg, dataset, threshold, epsilon, beam_size, my_verbose):\n",
    "    print(\"-----------\")\n",
    "    print(\"Threshold: \", threshold)\n",
    "    anchor_explainer = newlime_tabular.NewLimeTabularExplainer(\n",
    "        dataset.class_names,\n",
    "        dataset.feature_names,\n",
    "        dataset.train,\n",
    "        dataset.categorical_names\n",
    "    )\n",
    "    hyper_param = newlime_tabular.HyperParam(\n",
    "        delta = 0.05,\n",
    "        epsilon = epsilon, \n",
    "        epsilon_stop = 0.05,\n",
    "        beam_size = beam_size,\n",
    "        batch_size = 100,\n",
    "        desired_confidence = threshold,\n",
    "        coverage_samples_num = 10000,\n",
    "        max_rule_length = None,\n",
    "    )\n",
    "    anchor_exp, surrogate_model = anchor_explainer.my_explain_instance(\n",
    "        trg, rf.predict, hyper_param)\n",
    "    names = anchor_exp.names()\n",
    "    multiline_names = []\n",
    "    max_i = int(len(names) / 3)\n",
    "    for i in range(max_i):\n",
    "        triple = [names[i * 3], names[i * 3 + 1], names[i * 3 + 2]]\n",
    "        multiline_names.append(' AND '.join(triple))\n",
    "    if len(names) != max_i* 3:\n",
    "        multiline_names.append(' AND '.join(names[max_i * 3:]))\n",
    "\n",
    "    weights = list(surrogate_model['LogisticRegression'].weights.values())\n",
    "    feat = dataset.feature_names\n",
    "    rule = ' AND \\n'.join(multiline_names)\n",
    "    prec = anchor_exp.precision()\n",
    "    cov = anchor_exp.coverage()\n",
    "    print(\"Rule     : \", rule)\n",
    "    print(\"Precision: \", prec)\n",
    "    print(\"Coverage : \", cov)\n",
    "    \n",
    "    if weights == []:\n",
    "        print(\"Error! Surrogate model has no weights!\")\n",
    "    else:\n",
    "        newlime_utils.plot_weights(weights, feat, rule, prec, cov)"
   ]
  },
  {
   "cell_type": "markdown",
   "metadata": {
    "id": "pTVA7PrLK-WF"
   },
   "source": [
    "## Generating Explanations"
   ]
  },
  {
   "cell_type": "code",
   "execution_count": 5,
   "metadata": {
    "executionInfo": {
     "elapsed": 1565,
     "status": "ok",
     "timestamp": 1693384132186,
     "user": {
      "displayName": "大原玄嗣",
      "userId": "17130663518414586879"
     },
     "user_tz": -540
    },
    "id": "Mk7wsr1rYrMm"
   },
   "outputs": [
    {
     "name": "stdout",
     "output_type": "stream",
     "text": [
      "['No more crimes', 'Re-arrested']\n",
      "5635\n",
      "705\n",
      "6340\n"
     ]
    }
   ],
   "source": [
    "dataset_folder = 'datasets/'\n",
    "dataset_name = 'recidivism'\n",
    "# dataset_name = 'adult'\n",
    "# dataset_name = 'diabetes'\n",
    "# dataset_name = 'default'\n",
    "# dataset_name = 'lending'\n",
    "\n",
    "# dataset = utils.load_dataset(\n",
    "    # dataset_name, balance=True, dataset_folder=dataset_folder, discretize=True)\n",
    "\n",
    "dataset = newlime_utils.load_dataset(dataset_name, dataset_folder)\n",
    "print(dataset.class_names)\n",
    "\n",
    "print(dataset.train.shape[0])\n",
    "print(dataset.test.shape[0])\n",
    "print(dataset.train.shape[0] + dataset.test.shape[0])"
   ]
  },
  {
   "cell_type": "code",
   "execution_count": 6,
   "metadata": {
    "colab": {
     "base_uri": "https://localhost:8080/"
    },
    "executionInfo": {
     "elapsed": 13566,
     "status": "ok",
     "timestamp": 1693384148268,
     "user": {
      "displayName": "大原玄嗣",
      "userId": "17130663518414586879"
     },
     "user_tz": -540
    },
    "id": "t4zQDCB1xgXY",
    "outputId": "67f0b135-740e-45a6-f9dd-8be81469031f"
   },
   "outputs": [
    {
     "name": "stdout",
     "output_type": "stream",
     "text": [
      "Train 0.935226264418811\n",
      "Test 0.7531914893617021\n"
     ]
    }
   ],
   "source": [
    "import sklearn.ensemble\n",
    "\n",
    "rf = sklearn.ensemble.RandomForestClassifier(n_estimators=50, n_jobs=5)\n",
    "rf.fit(dataset.train, dataset.labels_train)\n",
    "\n",
    "print('Train', sklearn.metrics.accuracy_score(\n",
    "    dataset.labels_train, rf.predict(dataset.train)))\n",
    "print('Test', sklearn.metrics.accuracy_score(\n",
    "    dataset.labels_test, rf.predict(dataset.test)))"
   ]
  },
  {
   "cell_type": "code",
   "execution_count": 7,
   "metadata": {},
   "outputs": [
    {
     "name": "stdout",
     "output_type": "stream",
     "text": [
      "Prediction: Re-arrested\n",
      "True:       Re-arrested\n",
      "----------------------  -------------------------------\n",
      "Race                    White (1)\n",
      "Alcohol                 No (0)\n",
      "Junky                   No (0)\n",
      "Supervised Release      Yes (1)\n",
      "Married                 No (0)\n",
      "Felony                  Yes (1)\n",
      "WorkRelease             Yes (1)\n",
      "Crime against Property  Yes (1)\n",
      "Crime against Person    No (0)\n",
      "Gender                  Male (1)\n",
      "Priors                  1\n",
      "YearsSchool             8.00 < YearsSchool <= 10.00 (1)\n",
      "PrisonViolations        0\n",
      "Age                     Age <= 21.00 (0)\n",
      "MonthsServed            4.00 < MonthsServed <= 9.00 (1)\n",
      "Recidivism              Re-arrested (1)\n",
      "----------------------  -------------------------------\n"
     ]
    }
   ],
   "source": [
    "import random\n",
    "\n",
    "i = random.randint(10, dataset.test.shape[0])\n",
    "\n",
    "# adult\n",
    "# 730, 956, 1196, 1522\n",
    "# i = 1443 # --- Capital Gain = 2\n",
    "i = 0\n",
    "\n",
    "# recidivism\n",
    "# i = 266\n",
    "# i = 599\n",
    "\n",
    "trg, trg_label = sample(i, dataset, dataset_name, dataset_folder)"
   ]
  },
  {
   "cell_type": "code",
   "execution_count": 8,
   "metadata": {
    "colab": {
     "base_uri": "https://localhost:8080/"
    },
    "executionInfo": {
     "elapsed": 612,
     "status": "ok",
     "timestamp": 1693384151469,
     "user": {
      "displayName": "大原玄嗣",
      "userId": "17130663518414586879"
     },
     "user_tz": -540
    },
    "id": "WpL00B8X06dT",
    "outputId": "5c352fb5-d9ec-461c-bed8-dc13f8972a57",
    "scrolled": true
   },
   "outputs": [
    {
     "name": "stdout",
     "output_type": "stream",
     "text": [
      "Prediction: Re-arrested\n",
      "True:       Re-arrested\n",
      "----------------------  -------------------------------\n",
      "Race                    White (1)\n",
      "Alcohol                 No (0)\n",
      "Junky                   No (0)\n",
      "Supervised Release      Yes (1)\n",
      "Married                 No (0)\n",
      "Felony                  Yes (1)\n",
      "WorkRelease             Yes (1)\n",
      "Crime against Property  Yes (1)\n",
      "Crime against Person    No (0)\n",
      "Gender                  Male (1)\n",
      "Priors                  1\n",
      "YearsSchool             8.00 < YearsSchool <= 10.00 (1)\n",
      "PrisonViolations        0\n",
      "Age                     Age <= 21.00 (0)\n",
      "MonthsServed            4.00 < MonthsServed <= 9.00 (1)\n",
      "Recidivism              Re-arrested (1)\n",
      "----------------------  -------------------------------\n",
      "-----------\n",
      "Threshold:  0.7\n",
      "Rule     :  Felony = Yes AND Priors = 1\n",
      "Precision:  0.7096897740329375\n",
      "Coverage :  0.2041\n",
      "-----------\n",
      "Threshold:  0.8\n",
      "Rule     :  Priors = 1 AND 4.00 < MonthsServed <= 9.00 AND PrisonViolations = 0 AND \n",
      "WorkRelease = Yes\n",
      "Precision:  0.8396274343776461\n",
      "Coverage :  0.0333\n",
      "-----------\n",
      "Threshold:  0.9\n",
      "Rule     :  Priors = 1 AND 4.00 < MonthsServed <= 9.00 AND PrisonViolations = 0 AND \n",
      "WorkRelease = Yes AND Race = White\n",
      "Precision:  0.9116040955631399\n",
      "Coverage :  0.0196\n",
      "-----------\n",
      "Threshold:  0.95\n",
      "Rule     :  Felony = Yes AND Age <= 21.00 AND 8.00 < YearsSchool <= 10.00 AND \n",
      "Crime against Property = Yes AND Married = No AND Junky = No AND \n",
      "WorkRelease = Yes AND PrisonViolations = 0 AND Alcohol = No AND \n",
      "Gender = Male\n",
      "Precision:  0.958344531040043\n",
      "Coverage :  0.0024\n"
     ]
    }
   ],
   "source": [
    "import importlib\n",
    "importlib.reload(newlime_base)\n",
    "importlib.reload(newlime_tabular)\n",
    "importlib.reload(newlime_utils)\n",
    "write_file = False\n",
    "\n",
    "i = random.randint(10, dataset.test.shape[0])\n",
    "i = 0\n",
    "trg, trg_label = sample(i, dataset, dataset_name, dataset_folder)\n",
    "\n",
    "for t in [0.70, 0.80, 0.90, 0.95]:\n",
    "    new_lime(trg, dataset, threshold=t, beam_size=1, epsilon=0.1, my_verbose=True)\n",
    "    if write_file:\n",
    "        img_file = 'img/%s/%05d-%03d.png' % (dataset_name, i, t * 100)\n",
    "        plt.savefig(img_file, bbox_inches='tight')"
   ]
  },
  {
   "cell_type": "code",
   "execution_count": 9,
   "metadata": {
    "scrolled": true
   },
   "outputs": [],
   "source": [
    "lime_original(trg, rf.predict([dataset.test[i]])[0])\n",
    "\n",
    "write_file = False\n",
    "if write_file:\n",
    "    img_file = 'img/%s/%05d-LIME.png' % (dataset_name, i)\n",
    "    plt.savefig(img_file, bbox_inches='tight')"
   ]
  },
  {
   "cell_type": "code",
   "execution_count": 10,
   "metadata": {},
   "outputs": [
    {
     "data": {
      "text/plain": [
       "0"
      ]
     },
     "execution_count": 10,
     "metadata": {},
     "output_type": "execute_result"
    }
   ],
   "source": [
    "i"
   ]
  },
  {
   "cell_type": "code",
   "execution_count": 11,
   "metadata": {},
   "outputs": [
    {
     "name": "stdout",
     "output_type": "stream",
     "text": [
      "Threshold:  0.80\n",
      "Anchor:     Age <= 21.00 AND Felony = Yes AND Married = No AND 8.00 < YearsSchool <= 10.00 AND Crime against Property = Yes AND WorkRelease = Yes\n",
      "Precision:  0.85\n",
      "Coverage:   0.01\n"
     ]
    }
   ],
   "source": [
    "anchor_original(trg, threshold=0.80)"
   ]
  },
  {
   "cell_type": "code",
   "execution_count": null,
   "metadata": {},
   "outputs": [],
   "source": []
  }
 ],
 "metadata": {
  "colab": {
   "authorship_tag": "ABX9TyN0kC9fbDNbmc0mebrwUKVT",
   "collapsed_sections": [
    "jI2l8q9vDwmC",
    "LDo-nkw4DblO",
    "FUra4f6XDkte",
    "sFuAnPY8DpwJ",
    "QYQ-Wm17JrLV",
    "wc3XCxxJJ-aX",
    "uWULnk9jKNnF",
    "xtTn_fqoKdst"
   ],
   "provenance": [
    {
     "file_id": "1BAGBj_btcdMvhdjeKv1qqb35zqofH3gh",
     "timestamp": 1691797657695
    }
   ]
  },
  "kernelspec": {
   "display_name": "Python 3 (ipykernel)",
   "language": "python",
   "name": "python3"
  },
  "language_info": {
   "codemirror_mode": {
    "name": "ipython",
    "version": 3
   },
   "file_extension": ".py",
   "mimetype": "text/x-python",
   "name": "python",
   "nbconvert_exporter": "python",
   "pygments_lexer": "ipython3",
   "version": "3.10.12"
  }
 },
 "nbformat": 4,
 "nbformat_minor": 4
}
